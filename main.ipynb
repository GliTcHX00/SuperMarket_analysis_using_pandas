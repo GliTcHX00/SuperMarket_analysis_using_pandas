{
 "cells": [
  {
   "cell_type": "code",
   "execution_count": 3,
   "metadata": {},
   "outputs": [],
   "source": [
    "import pandas as pd\n",
    "import matplotlib.pyplot as plt"
   ]
  },
  {
   "cell_type": "code",
   "execution_count": 9,
   "metadata": {},
   "outputs": [],
   "source": [
    "df = pd.read_csv(r\"D:\\Projects_DS\\PaNDas_lib\\Data_Cleaning_Projects\\project_5\\supermarket_sales - Sheet1.csv\")"
   ]
  },
  {
   "cell_type": "markdown",
   "metadata": {},
   "source": [
    "# EDA "
   ]
  },
  {
   "cell_type": "code",
   "execution_count": 12,
   "metadata": {},
   "outputs": [
    {
     "data": {
      "text/html": [
       "<div>\n",
       "<style scoped>\n",
       "    .dataframe tbody tr th:only-of-type {\n",
       "        vertical-align: middle;\n",
       "    }\n",
       "\n",
       "    .dataframe tbody tr th {\n",
       "        vertical-align: top;\n",
       "    }\n",
       "\n",
       "    .dataframe thead th {\n",
       "        text-align: right;\n",
       "    }\n",
       "</style>\n",
       "<table border=\"1\" class=\"dataframe\">\n",
       "  <thead>\n",
       "    <tr style=\"text-align: right;\">\n",
       "      <th></th>\n",
       "      <th>Invoice ID</th>\n",
       "      <th>Branch</th>\n",
       "      <th>City</th>\n",
       "      <th>Customer type</th>\n",
       "      <th>Gender</th>\n",
       "      <th>Product line</th>\n",
       "      <th>Unit price</th>\n",
       "      <th>Quantity</th>\n",
       "      <th>Tax 5%</th>\n",
       "      <th>Total</th>\n",
       "      <th>Date</th>\n",
       "      <th>Time</th>\n",
       "      <th>Payment</th>\n",
       "      <th>cogs</th>\n",
       "      <th>gross margin percentage</th>\n",
       "      <th>gross income</th>\n",
       "      <th>Rating</th>\n",
       "    </tr>\n",
       "  </thead>\n",
       "  <tbody>\n",
       "    <tr>\n",
       "      <th>25</th>\n",
       "      <td>227-03-5010</td>\n",
       "      <td>A</td>\n",
       "      <td>Yangon</td>\n",
       "      <td>Member</td>\n",
       "      <td>Female</td>\n",
       "      <td>Home and lifestyle</td>\n",
       "      <td>52.59</td>\n",
       "      <td>8</td>\n",
       "      <td>21.0360</td>\n",
       "      <td>441.7560</td>\n",
       "      <td>3/22/2019</td>\n",
       "      <td>19:20</td>\n",
       "      <td>Credit card</td>\n",
       "      <td>420.72</td>\n",
       "      <td>4.761905</td>\n",
       "      <td>21.0360</td>\n",
       "      <td>8.5</td>\n",
       "    </tr>\n",
       "    <tr>\n",
       "      <th>743</th>\n",
       "      <td>546-80-2899</td>\n",
       "      <td>A</td>\n",
       "      <td>Yangon</td>\n",
       "      <td>Member</td>\n",
       "      <td>Male</td>\n",
       "      <td>Home and lifestyle</td>\n",
       "      <td>37.69</td>\n",
       "      <td>2</td>\n",
       "      <td>3.7690</td>\n",
       "      <td>79.1490</td>\n",
       "      <td>2/20/2019</td>\n",
       "      <td>15:29</td>\n",
       "      <td>Ewallet</td>\n",
       "      <td>75.38</td>\n",
       "      <td>4.761905</td>\n",
       "      <td>3.7690</td>\n",
       "      <td>9.5</td>\n",
       "    </tr>\n",
       "    <tr>\n",
       "      <th>195</th>\n",
       "      <td>556-86-3144</td>\n",
       "      <td>C</td>\n",
       "      <td>Naypyitaw</td>\n",
       "      <td>Member</td>\n",
       "      <td>Female</td>\n",
       "      <td>Fashion accessories</td>\n",
       "      <td>74.29</td>\n",
       "      <td>1</td>\n",
       "      <td>3.7145</td>\n",
       "      <td>78.0045</td>\n",
       "      <td>1/13/2019</td>\n",
       "      <td>19:30</td>\n",
       "      <td>Cash</td>\n",
       "      <td>74.29</td>\n",
       "      <td>4.761905</td>\n",
       "      <td>3.7145</td>\n",
       "      <td>5.0</td>\n",
       "    </tr>\n",
       "    <tr>\n",
       "      <th>417</th>\n",
       "      <td>186-09-3669</td>\n",
       "      <td>C</td>\n",
       "      <td>Naypyitaw</td>\n",
       "      <td>Member</td>\n",
       "      <td>Female</td>\n",
       "      <td>Health and beauty</td>\n",
       "      <td>81.51</td>\n",
       "      <td>1</td>\n",
       "      <td>4.0755</td>\n",
       "      <td>85.5855</td>\n",
       "      <td>1/22/2019</td>\n",
       "      <td>10:57</td>\n",
       "      <td>Ewallet</td>\n",
       "      <td>81.51</td>\n",
       "      <td>4.761905</td>\n",
       "      <td>4.0755</td>\n",
       "      <td>9.2</td>\n",
       "    </tr>\n",
       "    <tr>\n",
       "      <th>830</th>\n",
       "      <td>237-44-6163</td>\n",
       "      <td>A</td>\n",
       "      <td>Yangon</td>\n",
       "      <td>Normal</td>\n",
       "      <td>Male</td>\n",
       "      <td>Electronic accessories</td>\n",
       "      <td>10.56</td>\n",
       "      <td>8</td>\n",
       "      <td>4.2240</td>\n",
       "      <td>88.7040</td>\n",
       "      <td>1/24/2019</td>\n",
       "      <td>17:43</td>\n",
       "      <td>Cash</td>\n",
       "      <td>84.48</td>\n",
       "      <td>4.761905</td>\n",
       "      <td>4.2240</td>\n",
       "      <td>7.6</td>\n",
       "    </tr>\n",
       "  </tbody>\n",
       "</table>\n",
       "</div>"
      ],
      "text/plain": [
       "      Invoice ID Branch       City Customer type  Gender  \\\n",
       "25   227-03-5010      A     Yangon        Member  Female   \n",
       "743  546-80-2899      A     Yangon        Member    Male   \n",
       "195  556-86-3144      C  Naypyitaw        Member  Female   \n",
       "417  186-09-3669      C  Naypyitaw        Member  Female   \n",
       "830  237-44-6163      A     Yangon        Normal    Male   \n",
       "\n",
       "               Product line  Unit price  Quantity   Tax 5%     Total  \\\n",
       "25       Home and lifestyle       52.59         8  21.0360  441.7560   \n",
       "743      Home and lifestyle       37.69         2   3.7690   79.1490   \n",
       "195     Fashion accessories       74.29         1   3.7145   78.0045   \n",
       "417       Health and beauty       81.51         1   4.0755   85.5855   \n",
       "830  Electronic accessories       10.56         8   4.2240   88.7040   \n",
       "\n",
       "          Date   Time      Payment    cogs  gross margin percentage  \\\n",
       "25   3/22/2019  19:20  Credit card  420.72                 4.761905   \n",
       "743  2/20/2019  15:29      Ewallet   75.38                 4.761905   \n",
       "195  1/13/2019  19:30         Cash   74.29                 4.761905   \n",
       "417  1/22/2019  10:57      Ewallet   81.51                 4.761905   \n",
       "830  1/24/2019  17:43         Cash   84.48                 4.761905   \n",
       "\n",
       "     gross income  Rating  \n",
       "25        21.0360     8.5  \n",
       "743        3.7690     9.5  \n",
       "195        3.7145     5.0  \n",
       "417        4.0755     9.2  \n",
       "830        4.2240     7.6  "
      ]
     },
     "execution_count": 12,
     "metadata": {},
     "output_type": "execute_result"
    }
   ],
   "source": [
    "df.sample(5)"
   ]
  },
  {
   "cell_type": "code",
   "execution_count": 13,
   "metadata": {},
   "outputs": [
    {
     "data": {
      "text/plain": [
       "(1000, 17)"
      ]
     },
     "execution_count": 13,
     "metadata": {},
     "output_type": "execute_result"
    }
   ],
   "source": [
    "df.shape"
   ]
  },
  {
   "cell_type": "code",
   "execution_count": null,
   "metadata": {},
   "outputs": [
    {
     "name": "stdout",
     "output_type": "stream",
     "text": [
      "<class 'pandas.core.frame.DataFrame'>\n",
      "RangeIndex: 1000 entries, 0 to 999\n",
      "Data columns (total 17 columns):\n",
      " #   Column                   Non-Null Count  Dtype  \n",
      "---  ------                   --------------  -----  \n",
      " 0   Invoice ID               1000 non-null   object \n",
      " 1   Branch                   1000 non-null   object \n",
      " 2   City                     1000 non-null   object \n",
      " 3   Customer type            1000 non-null   object \n",
      " 4   Gender                   1000 non-null   object \n",
      " 5   Product line             1000 non-null   object \n",
      " 6   Unit price               1000 non-null   float64\n",
      " 7   Quantity                 1000 non-null   int64  \n",
      " 8   Tax 5%                   1000 non-null   float64\n",
      " 9   Total                    1000 non-null   float64\n",
      " 10  Date                     1000 non-null   object \n",
      " 11  Time                     1000 non-null   object \n",
      " 12  Payment                  1000 non-null   object \n",
      " 13  cogs                     1000 non-null   float64\n",
      " 14  gross margin percentage  1000 non-null   float64\n",
      " 15  gross income             1000 non-null   float64\n",
      " 16  Rating                   1000 non-null   float64\n",
      "dtypes: float64(7), int64(1), object(9)\n",
      "memory usage: 132.9+ KB\n"
     ]
    }
   ],
   "source": [
    "df.info()"
   ]
  },
  {
   "cell_type": "code",
   "execution_count": 23,
   "metadata": {},
   "outputs": [
    {
     "data": {
      "text/plain": [
       "np.int64(0)"
      ]
     },
     "execution_count": 23,
     "metadata": {},
     "output_type": "execute_result"
    }
   ],
   "source": [
    "df.duplicated().sum()"
   ]
  },
  {
   "cell_type": "code",
   "execution_count": 15,
   "metadata": {},
   "outputs": [
    {
     "data": {
      "text/plain": [
       "Invoice ID                 0\n",
       "Branch                     0\n",
       "City                       0\n",
       "Customer type              0\n",
       "Gender                     0\n",
       "Product line               0\n",
       "Unit price                 0\n",
       "Quantity                   0\n",
       "Tax 5%                     0\n",
       "Total                      0\n",
       "Date                       0\n",
       "Time                       0\n",
       "Payment                    0\n",
       "cogs                       0\n",
       "gross margin percentage    0\n",
       "gross income               0\n",
       "Rating                     0\n",
       "dtype: int64"
      ]
     },
     "execution_count": 15,
     "metadata": {},
     "output_type": "execute_result"
    }
   ],
   "source": [
    "df.isnull().sum()"
   ]
  },
  {
   "cell_type": "code",
   "execution_count": 16,
   "metadata": {},
   "outputs": [
    {
     "data": {
      "text/plain": [
       "array(['Health and beauty', 'Electronic accessories',\n",
       "       'Home and lifestyle', 'Sports and travel', 'Food and beverages',\n",
       "       'Fashion accessories'], dtype=object)"
      ]
     },
     "execution_count": 16,
     "metadata": {},
     "output_type": "execute_result"
    }
   ],
   "source": [
    "df['Product line'].unique()"
   ]
  },
  {
   "cell_type": "code",
   "execution_count": null,
   "metadata": {},
   "outputs": [
    {
     "data": {
      "text/plain": [
       "array(['Yangon', 'Naypyitaw', 'Mandalay'], dtype=object)"
      ]
     },
     "execution_count": 21,
     "metadata": {},
     "output_type": "execute_result"
    }
   ],
   "source": [
    "df['City'].unique() # there is 3 Branchs"
   ]
  },
  {
   "cell_type": "code",
   "execution_count": 22,
   "metadata": {},
   "outputs": [
    {
     "data": {
      "text/plain": [
       "array(['Member', 'Normal'], dtype=object)"
      ]
     },
     "execution_count": 22,
     "metadata": {},
     "output_type": "execute_result"
    }
   ],
   "source": [
    "df['Customer type'].unique()"
   ]
  },
  {
   "cell_type": "markdown",
   "metadata": {},
   "source": [
    "# Data Cleaning"
   ]
  },
  {
   "cell_type": "code",
   "execution_count": 24,
   "metadata": {},
   "outputs": [],
   "source": [
    "df['Time'] = pd.to_datetime(df['Time'], format= '%H:%M').dt.time"
   ]
  },
  {
   "cell_type": "code",
   "execution_count": 118,
   "metadata": {},
   "outputs": [],
   "source": [
    "df['Time']= df['Time'].astype(str).str.slice(0,5)"
   ]
  },
  {
   "cell_type": "code",
   "execution_count": 29,
   "metadata": {},
   "outputs": [],
   "source": [
    "df['Date'] = pd.to_datetime(df['Date'])"
   ]
  },
  {
   "cell_type": "code",
   "execution_count": 30,
   "metadata": {},
   "outputs": [
    {
     "data": {
      "text/plain": [
       "pandas._libs.tslibs.timestamps.Timestamp"
      ]
     },
     "execution_count": 30,
     "metadata": {},
     "output_type": "execute_result"
    }
   ],
   "source": [
    "type(df.Date[1])"
   ]
  },
  {
   "cell_type": "code",
   "execution_count": 119,
   "metadata": {},
   "outputs": [
    {
     "data": {
      "text/html": [
       "<div>\n",
       "<style scoped>\n",
       "    .dataframe tbody tr th:only-of-type {\n",
       "        vertical-align: middle;\n",
       "    }\n",
       "\n",
       "    .dataframe tbody tr th {\n",
       "        vertical-align: top;\n",
       "    }\n",
       "\n",
       "    .dataframe thead th {\n",
       "        text-align: right;\n",
       "    }\n",
       "</style>\n",
       "<table border=\"1\" class=\"dataframe\">\n",
       "  <thead>\n",
       "    <tr style=\"text-align: right;\">\n",
       "      <th></th>\n",
       "      <th>Invoice ID</th>\n",
       "      <th>Branch</th>\n",
       "      <th>City</th>\n",
       "      <th>Customer type</th>\n",
       "      <th>Gender</th>\n",
       "      <th>Product line</th>\n",
       "      <th>Unit price</th>\n",
       "      <th>Quantity</th>\n",
       "      <th>Tax 5%</th>\n",
       "      <th>Total</th>\n",
       "      <th>Date</th>\n",
       "      <th>Time</th>\n",
       "      <th>Payment</th>\n",
       "      <th>cogs</th>\n",
       "      <th>gross margin percentage</th>\n",
       "      <th>gross income</th>\n",
       "      <th>Rating</th>\n",
       "    </tr>\n",
       "  </thead>\n",
       "  <tbody>\n",
       "    <tr>\n",
       "      <th>774</th>\n",
       "      <td>200-16-5952</td>\n",
       "      <td>C</td>\n",
       "      <td>Naypyitaw</td>\n",
       "      <td>Member</td>\n",
       "      <td>Male</td>\n",
       "      <td>Food and beverages</td>\n",
       "      <td>65.65</td>\n",
       "      <td>2</td>\n",
       "      <td>6.5650</td>\n",
       "      <td>137.8650</td>\n",
       "      <td>2019-01-17</td>\n",
       "      <td>16:46</td>\n",
       "      <td>Cash</td>\n",
       "      <td>131.30</td>\n",
       "      <td>4.761905</td>\n",
       "      <td>6.5650</td>\n",
       "      <td>6.0</td>\n",
       "    </tr>\n",
       "    <tr>\n",
       "      <th>120</th>\n",
       "      <td>638-60-7125</td>\n",
       "      <td>A</td>\n",
       "      <td>Yangon</td>\n",
       "      <td>Normal</td>\n",
       "      <td>Female</td>\n",
       "      <td>Electronic accessories</td>\n",
       "      <td>99.56</td>\n",
       "      <td>8</td>\n",
       "      <td>39.8240</td>\n",
       "      <td>836.3040</td>\n",
       "      <td>2019-02-14</td>\n",
       "      <td>17:03</td>\n",
       "      <td>Credit card</td>\n",
       "      <td>796.48</td>\n",
       "      <td>4.761905</td>\n",
       "      <td>39.8240</td>\n",
       "      <td>5.2</td>\n",
       "    </tr>\n",
       "    <tr>\n",
       "      <th>887</th>\n",
       "      <td>884-80-6021</td>\n",
       "      <td>A</td>\n",
       "      <td>Yangon</td>\n",
       "      <td>Member</td>\n",
       "      <td>Female</td>\n",
       "      <td>Electronic accessories</td>\n",
       "      <td>73.47</td>\n",
       "      <td>10</td>\n",
       "      <td>36.7350</td>\n",
       "      <td>771.4350</td>\n",
       "      <td>2019-03-23</td>\n",
       "      <td>13:14</td>\n",
       "      <td>Ewallet</td>\n",
       "      <td>734.70</td>\n",
       "      <td>4.761905</td>\n",
       "      <td>36.7350</td>\n",
       "      <td>9.5</td>\n",
       "    </tr>\n",
       "    <tr>\n",
       "      <th>954</th>\n",
       "      <td>200-40-6154</td>\n",
       "      <td>B</td>\n",
       "      <td>Mandalay</td>\n",
       "      <td>Member</td>\n",
       "      <td>Male</td>\n",
       "      <td>Home and lifestyle</td>\n",
       "      <td>65.91</td>\n",
       "      <td>6</td>\n",
       "      <td>19.7730</td>\n",
       "      <td>415.2330</td>\n",
       "      <td>2019-02-09</td>\n",
       "      <td>11:45</td>\n",
       "      <td>Cash</td>\n",
       "      <td>395.46</td>\n",
       "      <td>4.761905</td>\n",
       "      <td>19.7730</td>\n",
       "      <td>5.7</td>\n",
       "    </tr>\n",
       "    <tr>\n",
       "      <th>208</th>\n",
       "      <td>573-58-9734</td>\n",
       "      <td>B</td>\n",
       "      <td>Mandalay</td>\n",
       "      <td>Normal</td>\n",
       "      <td>Female</td>\n",
       "      <td>Fashion accessories</td>\n",
       "      <td>30.37</td>\n",
       "      <td>3</td>\n",
       "      <td>4.5555</td>\n",
       "      <td>95.6655</td>\n",
       "      <td>2019-03-28</td>\n",
       "      <td>13:41</td>\n",
       "      <td>Ewallet</td>\n",
       "      <td>91.11</td>\n",
       "      <td>4.761905</td>\n",
       "      <td>4.5555</td>\n",
       "      <td>5.1</td>\n",
       "    </tr>\n",
       "    <tr>\n",
       "      <th>920</th>\n",
       "      <td>246-55-6923</td>\n",
       "      <td>C</td>\n",
       "      <td>Naypyitaw</td>\n",
       "      <td>Member</td>\n",
       "      <td>Female</td>\n",
       "      <td>Home and lifestyle</td>\n",
       "      <td>35.79</td>\n",
       "      <td>9</td>\n",
       "      <td>16.1055</td>\n",
       "      <td>338.2155</td>\n",
       "      <td>2019-03-10</td>\n",
       "      <td>15:06</td>\n",
       "      <td>Credit card</td>\n",
       "      <td>322.11</td>\n",
       "      <td>4.761905</td>\n",
       "      <td>16.1055</td>\n",
       "      <td>5.1</td>\n",
       "    </tr>\n",
       "    <tr>\n",
       "      <th>924</th>\n",
       "      <td>457-12-0244</td>\n",
       "      <td>C</td>\n",
       "      <td>Naypyitaw</td>\n",
       "      <td>Member</td>\n",
       "      <td>Female</td>\n",
       "      <td>Sports and travel</td>\n",
       "      <td>35.22</td>\n",
       "      <td>6</td>\n",
       "      <td>10.5660</td>\n",
       "      <td>221.8860</td>\n",
       "      <td>2019-03-14</td>\n",
       "      <td>13:49</td>\n",
       "      <td>Ewallet</td>\n",
       "      <td>211.32</td>\n",
       "      <td>4.761905</td>\n",
       "      <td>10.5660</td>\n",
       "      <td>6.5</td>\n",
       "    </tr>\n",
       "    <tr>\n",
       "      <th>341</th>\n",
       "      <td>433-75-6987</td>\n",
       "      <td>B</td>\n",
       "      <td>Mandalay</td>\n",
       "      <td>Member</td>\n",
       "      <td>Female</td>\n",
       "      <td>Health and beauty</td>\n",
       "      <td>55.97</td>\n",
       "      <td>7</td>\n",
       "      <td>19.5895</td>\n",
       "      <td>411.3795</td>\n",
       "      <td>2019-03-05</td>\n",
       "      <td>19:06</td>\n",
       "      <td>Ewallet</td>\n",
       "      <td>391.79</td>\n",
       "      <td>4.761905</td>\n",
       "      <td>19.5895</td>\n",
       "      <td>8.9</td>\n",
       "    </tr>\n",
       "    <tr>\n",
       "      <th>243</th>\n",
       "      <td>217-58-1179</td>\n",
       "      <td>A</td>\n",
       "      <td>Yangon</td>\n",
       "      <td>Member</td>\n",
       "      <td>Male</td>\n",
       "      <td>Home and lifestyle</td>\n",
       "      <td>62.65</td>\n",
       "      <td>4</td>\n",
       "      <td>12.5300</td>\n",
       "      <td>263.1300</td>\n",
       "      <td>2019-01-05</td>\n",
       "      <td>11:25</td>\n",
       "      <td>Cash</td>\n",
       "      <td>250.60</td>\n",
       "      <td>4.761905</td>\n",
       "      <td>12.5300</td>\n",
       "      <td>4.2</td>\n",
       "    </tr>\n",
       "    <tr>\n",
       "      <th>668</th>\n",
       "      <td>408-66-6712</td>\n",
       "      <td>C</td>\n",
       "      <td>Naypyitaw</td>\n",
       "      <td>Member</td>\n",
       "      <td>Female</td>\n",
       "      <td>Health and beauty</td>\n",
       "      <td>47.71</td>\n",
       "      <td>6</td>\n",
       "      <td>14.3130</td>\n",
       "      <td>300.5730</td>\n",
       "      <td>2019-02-16</td>\n",
       "      <td>14:19</td>\n",
       "      <td>Ewallet</td>\n",
       "      <td>286.26</td>\n",
       "      <td>4.761905</td>\n",
       "      <td>14.3130</td>\n",
       "      <td>4.4</td>\n",
       "    </tr>\n",
       "  </tbody>\n",
       "</table>\n",
       "</div>"
      ],
      "text/plain": [
       "      Invoice ID Branch       City Customer type  Gender  \\\n",
       "774  200-16-5952      C  Naypyitaw        Member    Male   \n",
       "120  638-60-7125      A     Yangon        Normal  Female   \n",
       "887  884-80-6021      A     Yangon        Member  Female   \n",
       "954  200-40-6154      B   Mandalay        Member    Male   \n",
       "208  573-58-9734      B   Mandalay        Normal  Female   \n",
       "920  246-55-6923      C  Naypyitaw        Member  Female   \n",
       "924  457-12-0244      C  Naypyitaw        Member  Female   \n",
       "341  433-75-6987      B   Mandalay        Member  Female   \n",
       "243  217-58-1179      A     Yangon        Member    Male   \n",
       "668  408-66-6712      C  Naypyitaw        Member  Female   \n",
       "\n",
       "               Product line  Unit price  Quantity   Tax 5%     Total  \\\n",
       "774      Food and beverages       65.65         2   6.5650  137.8650   \n",
       "120  Electronic accessories       99.56         8  39.8240  836.3040   \n",
       "887  Electronic accessories       73.47        10  36.7350  771.4350   \n",
       "954      Home and lifestyle       65.91         6  19.7730  415.2330   \n",
       "208     Fashion accessories       30.37         3   4.5555   95.6655   \n",
       "920      Home and lifestyle       35.79         9  16.1055  338.2155   \n",
       "924       Sports and travel       35.22         6  10.5660  221.8860   \n",
       "341       Health and beauty       55.97         7  19.5895  411.3795   \n",
       "243      Home and lifestyle       62.65         4  12.5300  263.1300   \n",
       "668       Health and beauty       47.71         6  14.3130  300.5730   \n",
       "\n",
       "          Date   Time      Payment    cogs  gross margin percentage  \\\n",
       "774 2019-01-17  16:46         Cash  131.30                 4.761905   \n",
       "120 2019-02-14  17:03  Credit card  796.48                 4.761905   \n",
       "887 2019-03-23  13:14      Ewallet  734.70                 4.761905   \n",
       "954 2019-02-09  11:45         Cash  395.46                 4.761905   \n",
       "208 2019-03-28  13:41      Ewallet   91.11                 4.761905   \n",
       "920 2019-03-10  15:06  Credit card  322.11                 4.761905   \n",
       "924 2019-03-14  13:49      Ewallet  211.32                 4.761905   \n",
       "341 2019-03-05  19:06      Ewallet  391.79                 4.761905   \n",
       "243 2019-01-05  11:25         Cash  250.60                 4.761905   \n",
       "668 2019-02-16  14:19      Ewallet  286.26                 4.761905   \n",
       "\n",
       "     gross income  Rating  \n",
       "774        6.5650     6.0  \n",
       "120       39.8240     5.2  \n",
       "887       36.7350     9.5  \n",
       "954       19.7730     5.7  \n",
       "208        4.5555     5.1  \n",
       "920       16.1055     5.1  \n",
       "924       10.5660     6.5  \n",
       "341       19.5895     8.9  \n",
       "243       12.5300     4.2  \n",
       "668       14.3130     4.4  "
      ]
     },
     "execution_count": 119,
     "metadata": {},
     "output_type": "execute_result"
    }
   ],
   "source": [
    "df.sample(10)"
   ]
  },
  {
   "cell_type": "markdown",
   "metadata": {},
   "source": [
    "# Data analysis"
   ]
  },
  {
   "cell_type": "markdown",
   "metadata": {},
   "source": [
    "### What is the total sales for each branch?"
   ]
  },
  {
   "cell_type": "code",
   "execution_count": 108,
   "metadata": {},
   "outputs": [
    {
     "data": {
      "text/html": [
       "<div>\n",
       "<style scoped>\n",
       "    .dataframe tbody tr th:only-of-type {\n",
       "        vertical-align: middle;\n",
       "    }\n",
       "\n",
       "    .dataframe tbody tr th {\n",
       "        vertical-align: top;\n",
       "    }\n",
       "\n",
       "    .dataframe thead th {\n",
       "        text-align: right;\n",
       "    }\n",
       "</style>\n",
       "<table border=\"1\" class=\"dataframe\">\n",
       "  <thead>\n",
       "    <tr style=\"text-align: right;\">\n",
       "      <th></th>\n",
       "      <th>Total</th>\n",
       "    </tr>\n",
       "    <tr>\n",
       "      <th>Branch</th>\n",
       "      <th></th>\n",
       "    </tr>\n",
       "  </thead>\n",
       "  <tbody>\n",
       "    <tr>\n",
       "      <th>C</th>\n",
       "      <td>110568.7065</td>\n",
       "    </tr>\n",
       "    <tr>\n",
       "      <th>A</th>\n",
       "      <td>106200.3705</td>\n",
       "    </tr>\n",
       "    <tr>\n",
       "      <th>B</th>\n",
       "      <td>106197.6720</td>\n",
       "    </tr>\n",
       "  </tbody>\n",
       "</table>\n",
       "</div>"
      ],
      "text/plain": [
       "              Total\n",
       "Branch             \n",
       "C       110568.7065\n",
       "A       106200.3705\n",
       "B       106197.6720"
      ]
     },
     "execution_count": 108,
     "metadata": {},
     "output_type": "execute_result"
    }
   ],
   "source": [
    "df.groupby('Branch')[['Branch', 'Total']].sum(numeric_only=True).sort_values('Total' ,ascending=False)"
   ]
  },
  {
   "cell_type": "markdown",
   "metadata": {},
   "source": [
    "### What is the average rating for each product line?"
   ]
  },
  {
   "cell_type": "code",
   "execution_count": 77,
   "metadata": {},
   "outputs": [
    {
     "data": {
      "image/png": "[encoded data removed]",
      "text/plain": [
       "<Figure size 640x480 with 1 Axes>"
      ]
     },
     "metadata": {},
     "output_type": "display_data"
    }
   ],
   "source": [
    "result = df.groupby('Product line')['Rating'].mean(numeric_only=True)\n",
    "\n",
    "keys = [product for product, df in df.groupby('Product line')]\n",
    "\n",
    "plt.plot(keys, result)\n",
    "plt.ylabel('Rating')\n",
    "plt.xlabel('Product line')\n",
    "plt.xticks(keys, rotation='vertical', size=10)\n",
    "plt.show()"
   ]
  },
  {
   "cell_type": "markdown",
   "metadata": {},
   "source": [
    "### What is the most used payment method?"
   ]
  },
  {
   "cell_type": "code",
   "execution_count": 81,
   "metadata": {},
   "outputs": [
    {
     "data": {
      "text/plain": [
       "Payment\n",
       "Ewallet        345\n",
       "Cash           344\n",
       "Credit card    311\n",
       "Name: count, dtype: int64"
      ]
     },
     "execution_count": 81,
     "metadata": {},
     "output_type": "execute_result"
    }
   ],
   "source": [
    "df['Payment'].value_counts()"
   ]
  },
  {
   "cell_type": "markdown",
   "metadata": {},
   "source": [
    "### Which branch had the largest gross income?"
   ]
  },
  {
   "cell_type": "code",
   "execution_count": 82,
   "metadata": {},
   "outputs": [
    {
     "data": {
      "text/plain": [
       "Branch\n",
       "A    5057.1605\n",
       "B    5057.0320\n",
       "C    5265.1765\n",
       "Name: gross income, dtype: float64"
      ]
     },
     "execution_count": 82,
     "metadata": {},
     "output_type": "execute_result"
    }
   ],
   "source": [
    "df.groupby('Branch')['gross income'].sum()"
   ]
  },
  {
   "cell_type": "markdown",
   "metadata": {},
   "source": [
    "### What is the best selling product line in terms of quantity?"
   ]
  },
  {
   "cell_type": "code",
   "execution_count": null,
   "metadata": {},
   "outputs": [
    {
     "data": {
      "image/png": "[encoded data removed]",
      "text/plain": [
       "<Figure size 640x480 with 1 Axes>"
      ]
     },
     "metadata": {},
     "output_type": "display_data"
    }
   ],
   "source": [
    "result1 = df.groupby('Product line')['Quantity'].sum()\n",
    "\n",
    "# keys = [product for product, df in df.groupby('Product line')]\n",
    "\n",
    "plt.plot(result1.index, result1)\n",
    "plt.xticks(rotation='vertical', size=10)\n",
    "plt.show()"
   ]
  },
  {
   "cell_type": "markdown",
   "metadata": {},
   "source": [
    "### What is the average unit price for each product line?"
   ]
  },
  {
   "cell_type": "code",
   "execution_count": null,
   "metadata": {},
   "outputs": [
    {
     "data": {
      "text/plain": [
       "Product line\n",
       "Fashion accessories       57.153652\n",
       "Sports and travel         56.993253\n",
       "Food and beverages        56.008851\n",
       "Home and lifestyle        55.316937\n",
       "Health and beauty         54.854474\n",
       "Electronic accessories    53.551588\n",
       "Name: Unit price, dtype: float64"
      ]
     },
     "execution_count": 110,
     "metadata": {},
     "output_type": "execute_result"
    }
   ],
   "source": [
    "df.groupby('Product line')['Unit price'].mean(numeric_only=True).nlargest(10)"
   ]
  },
  {
   "cell_type": "markdown",
   "metadata": {},
   "source": [
    "### How many sales were made in each city?"
   ]
  },
  {
   "cell_type": "code",
   "execution_count": 112,
   "metadata": {},
   "outputs": [
    {
     "data": {
      "text/plain": [
       "City\n",
       "Mandalay     332\n",
       "Naypyitaw    328\n",
       "Yangon       340\n",
       "Name: Invoice ID, dtype: int64"
      ]
     },
     "execution_count": 112,
     "metadata": {},
     "output_type": "execute_result"
    }
   ],
   "source": [
    "df.groupby('City')['Invoice ID'].count()"
   ]
  },
  {
   "cell_type": "markdown",
   "metadata": {},
   "source": [
    "### What are the peak sales hours based on the Time column? (Sales Distribution Analysis by Hour)"
   ]
  },
  {
   "cell_type": "code",
   "execution_count": 126,
   "metadata": {},
   "outputs": [],
   "source": [
    "df['Hour'] = df['Time'].str[0:2]\n",
    "df['Hour'] = pd.to_numeric(df['Hour'])"
   ]
  },
  {
   "cell_type": "code",
   "execution_count": 127,
   "metadata": {},
   "outputs": [
    {
     "data": {
      "text/html": [
       "<div>\n",
       "<style scoped>\n",
       "    .dataframe tbody tr th:only-of-type {\n",
       "        vertical-align: middle;\n",
       "    }\n",
       "\n",
       "    .dataframe tbody tr th {\n",
       "        vertical-align: top;\n",
       "    }\n",
       "\n",
       "    .dataframe thead th {\n",
       "        text-align: right;\n",
       "    }\n",
       "</style>\n",
       "<table border=\"1\" class=\"dataframe\">\n",
       "  <thead>\n",
       "    <tr style=\"text-align: right;\">\n",
       "      <th></th>\n",
       "      <th>Invoice ID</th>\n",
       "      <th>Branch</th>\n",
       "      <th>City</th>\n",
       "      <th>Customer type</th>\n",
       "      <th>Gender</th>\n",
       "      <th>Product line</th>\n",
       "      <th>Unit price</th>\n",
       "      <th>Quantity</th>\n",
       "      <th>Tax 5%</th>\n",
       "      <th>Total</th>\n",
       "      <th>Date</th>\n",
       "      <th>Time</th>\n",
       "      <th>Payment</th>\n",
       "      <th>cogs</th>\n",
       "      <th>gross margin percentage</th>\n",
       "      <th>gross income</th>\n",
       "      <th>Rating</th>\n",
       "      <th>Hour</th>\n",
       "    </tr>\n",
       "  </thead>\n",
       "  <tbody>\n",
       "    <tr>\n",
       "      <th>0</th>\n",
       "      <td>750-67-8428</td>\n",
       "      <td>A</td>\n",
       "      <td>Yangon</td>\n",
       "      <td>Member</td>\n",
       "      <td>Female</td>\n",
       "      <td>Health and beauty</td>\n",
       "      <td>74.69</td>\n",
       "      <td>7</td>\n",
       "      <td>26.1415</td>\n",
       "      <td>548.9715</td>\n",
       "      <td>2019-01-05</td>\n",
       "      <td>13:08</td>\n",
       "      <td>Ewallet</td>\n",
       "      <td>522.83</td>\n",
       "      <td>4.761905</td>\n",
       "      <td>26.1415</td>\n",
       "      <td>9.1</td>\n",
       "      <td>13</td>\n",
       "    </tr>\n",
       "    <tr>\n",
       "      <th>1</th>\n",
       "      <td>226-31-3081</td>\n",
       "      <td>C</td>\n",
       "      <td>Naypyitaw</td>\n",
       "      <td>Normal</td>\n",
       "      <td>Female</td>\n",
       "      <td>Electronic accessories</td>\n",
       "      <td>15.28</td>\n",
       "      <td>5</td>\n",
       "      <td>3.8200</td>\n",
       "      <td>80.2200</td>\n",
       "      <td>2019-03-08</td>\n",
       "      <td>10:29</td>\n",
       "      <td>Cash</td>\n",
       "      <td>76.40</td>\n",
       "      <td>4.761905</td>\n",
       "      <td>3.8200</td>\n",
       "      <td>9.6</td>\n",
       "      <td>10</td>\n",
       "    </tr>\n",
       "    <tr>\n",
       "      <th>2</th>\n",
       "      <td>631-41-3108</td>\n",
       "      <td>A</td>\n",
       "      <td>Yangon</td>\n",
       "      <td>Normal</td>\n",
       "      <td>Male</td>\n",
       "      <td>Home and lifestyle</td>\n",
       "      <td>46.33</td>\n",
       "      <td>7</td>\n",
       "      <td>16.2155</td>\n",
       "      <td>340.5255</td>\n",
       "      <td>2019-03-03</td>\n",
       "      <td>13:23</td>\n",
       "      <td>Credit card</td>\n",
       "      <td>324.31</td>\n",
       "      <td>4.761905</td>\n",
       "      <td>16.2155</td>\n",
       "      <td>7.4</td>\n",
       "      <td>13</td>\n",
       "    </tr>\n",
       "    <tr>\n",
       "      <th>3</th>\n",
       "      <td>123-19-1176</td>\n",
       "      <td>A</td>\n",
       "      <td>Yangon</td>\n",
       "      <td>Member</td>\n",
       "      <td>Male</td>\n",
       "      <td>Health and beauty</td>\n",
       "      <td>58.22</td>\n",
       "      <td>8</td>\n",
       "      <td>23.2880</td>\n",
       "      <td>489.0480</td>\n",
       "      <td>2019-01-27</td>\n",
       "      <td>20:33</td>\n",
       "      <td>Ewallet</td>\n",
       "      <td>465.76</td>\n",
       "      <td>4.761905</td>\n",
       "      <td>23.2880</td>\n",
       "      <td>8.4</td>\n",
       "      <td>20</td>\n",
       "    </tr>\n",
       "    <tr>\n",
       "      <th>4</th>\n",
       "      <td>373-73-7910</td>\n",
       "      <td>A</td>\n",
       "      <td>Yangon</td>\n",
       "      <td>Normal</td>\n",
       "      <td>Male</td>\n",
       "      <td>Sports and travel</td>\n",
       "      <td>86.31</td>\n",
       "      <td>7</td>\n",
       "      <td>30.2085</td>\n",
       "      <td>634.3785</td>\n",
       "      <td>2019-02-08</td>\n",
       "      <td>10:37</td>\n",
       "      <td>Ewallet</td>\n",
       "      <td>604.17</td>\n",
       "      <td>4.761905</td>\n",
       "      <td>30.2085</td>\n",
       "      <td>5.3</td>\n",
       "      <td>10</td>\n",
       "    </tr>\n",
       "  </tbody>\n",
       "</table>\n",
       "</div>"
      ],
      "text/plain": [
       "    Invoice ID Branch       City Customer type  Gender  \\\n",
       "0  750-67-8428      A     Yangon        Member  Female   \n",
       "1  226-31-3081      C  Naypyitaw        Normal  Female   \n",
       "2  631-41-3108      A     Yangon        Normal    Male   \n",
       "3  123-19-1176      A     Yangon        Member    Male   \n",
       "4  373-73-7910      A     Yangon        Normal    Male   \n",
       "\n",
       "             Product line  Unit price  Quantity   Tax 5%     Total       Date  \\\n",
       "0       Health and beauty       74.69         7  26.1415  548.9715 2019-01-05   \n",
       "1  Electronic accessories       15.28         5   3.8200   80.2200 2019-03-08   \n",
       "2      Home and lifestyle       46.33         7  16.2155  340.5255 2019-03-03   \n",
       "3       Health and beauty       58.22         8  23.2880  489.0480 2019-01-27   \n",
       "4       Sports and travel       86.31         7  30.2085  634.3785 2019-02-08   \n",
       "\n",
       "    Time      Payment    cogs  gross margin percentage  gross income  Rating  \\\n",
       "0  13:08      Ewallet  522.83                 4.761905       26.1415     9.1   \n",
       "1  10:29         Cash   76.40                 4.761905        3.8200     9.6   \n",
       "2  13:23  Credit card  324.31                 4.761905       16.2155     7.4   \n",
       "3  20:33      Ewallet  465.76                 4.761905       23.2880     8.4   \n",
       "4  10:37      Ewallet  604.17                 4.761905       30.2085     5.3   \n",
       "\n",
       "   Hour  \n",
       "0    13  \n",
       "1    10  \n",
       "2    13  \n",
       "3    20  \n",
       "4    10  "
      ]
     },
     "execution_count": 127,
     "metadata": {},
     "output_type": "execute_result"
    }
   ],
   "source": [
    "df.head()"
   ]
  },
  {
   "cell_type": "code",
   "execution_count": 132,
   "metadata": {},
   "outputs": [
    {
     "data": {
      "text/plain": [
       "<Axes: xlabel='Hour'>"
      ]
     },
     "execution_count": 132,
     "metadata": {},
     "output_type": "execute_result"
    },
    {
     "data": {
      "image/png": "[encoded data removed]",
      "text/plain": [
       "<Figure size 640x480 with 1 Axes>"
      ]
     },
     "metadata": {},
     "output_type": "display_data"
    }
   ],
   "source": [
    "df.groupby('Hour')['Total'].sum().plot()"
   ]
  },
  {
   "cell_type": "markdown",
   "metadata": {},
   "source": [
    "### What is the average sales (Total) for each day of the week?"
   ]
  },
  {
   "cell_type": "code",
   "execution_count": 133,
   "metadata": {},
   "outputs": [],
   "source": [
    "df[\"Day of Week\"] = df[\"Date\"].dt.day_name()"
   ]
  },
  {
   "cell_type": "code",
   "execution_count": 134,
   "metadata": {},
   "outputs": [
    {
     "data": {
      "text/html": [
       "<div>\n",
       "<style scoped>\n",
       "    .dataframe tbody tr th:only-of-type {\n",
       "        vertical-align: middle;\n",
       "    }\n",
       "\n",
       "    .dataframe tbody tr th {\n",
       "        vertical-align: top;\n",
       "    }\n",
       "\n",
       "    .dataframe thead th {\n",
       "        text-align: right;\n",
       "    }\n",
       "</style>\n",
       "<table border=\"1\" class=\"dataframe\">\n",
       "  <thead>\n",
       "    <tr style=\"text-align: right;\">\n",
       "      <th></th>\n",
       "      <th>Invoice ID</th>\n",
       "      <th>Branch</th>\n",
       "      <th>City</th>\n",
       "      <th>Customer type</th>\n",
       "      <th>Gender</th>\n",
       "      <th>Product line</th>\n",
       "      <th>Unit price</th>\n",
       "      <th>Quantity</th>\n",
       "      <th>Tax 5%</th>\n",
       "      <th>Total</th>\n",
       "      <th>Date</th>\n",
       "      <th>Time</th>\n",
       "      <th>Payment</th>\n",
       "      <th>cogs</th>\n",
       "      <th>gross margin percentage</th>\n",
       "      <th>gross income</th>\n",
       "      <th>Rating</th>\n",
       "      <th>Hour</th>\n",
       "      <th>Day of Week</th>\n",
       "    </tr>\n",
       "  </thead>\n",
       "  <tbody>\n",
       "    <tr>\n",
       "      <th>0</th>\n",
       "      <td>750-67-8428</td>\n",
       "      <td>A</td>\n",
       "      <td>Yangon</td>\n",
       "      <td>Member</td>\n",
       "      <td>Female</td>\n",
       "      <td>Health and beauty</td>\n",
       "      <td>74.69</td>\n",
       "      <td>7</td>\n",
       "      <td>26.1415</td>\n",
       "      <td>548.9715</td>\n",
       "      <td>2019-01-05</td>\n",
       "      <td>13:08</td>\n",
       "      <td>Ewallet</td>\n",
       "      <td>522.83</td>\n",
       "      <td>4.761905</td>\n",
       "      <td>26.1415</td>\n",
       "      <td>9.1</td>\n",
       "      <td>13</td>\n",
       "      <td>Saturday</td>\n",
       "    </tr>\n",
       "    <tr>\n",
       "      <th>1</th>\n",
       "      <td>226-31-3081</td>\n",
       "      <td>C</td>\n",
       "      <td>Naypyitaw</td>\n",
       "      <td>Normal</td>\n",
       "      <td>Female</td>\n",
       "      <td>Electronic accessories</td>\n",
       "      <td>15.28</td>\n",
       "      <td>5</td>\n",
       "      <td>3.8200</td>\n",
       "      <td>80.2200</td>\n",
       "      <td>2019-03-08</td>\n",
       "      <td>10:29</td>\n",
       "      <td>Cash</td>\n",
       "      <td>76.40</td>\n",
       "      <td>4.761905</td>\n",
       "      <td>3.8200</td>\n",
       "      <td>9.6</td>\n",
       "      <td>10</td>\n",
       "      <td>Friday</td>\n",
       "    </tr>\n",
       "    <tr>\n",
       "      <th>2</th>\n",
       "      <td>631-41-3108</td>\n",
       "      <td>A</td>\n",
       "      <td>Yangon</td>\n",
       "      <td>Normal</td>\n",
       "      <td>Male</td>\n",
       "      <td>Home and lifestyle</td>\n",
       "      <td>46.33</td>\n",
       "      <td>7</td>\n",
       "      <td>16.2155</td>\n",
       "      <td>340.5255</td>\n",
       "      <td>2019-03-03</td>\n",
       "      <td>13:23</td>\n",
       "      <td>Credit card</td>\n",
       "      <td>324.31</td>\n",
       "      <td>4.761905</td>\n",
       "      <td>16.2155</td>\n",
       "      <td>7.4</td>\n",
       "      <td>13</td>\n",
       "      <td>Sunday</td>\n",
       "    </tr>\n",
       "    <tr>\n",
       "      <th>3</th>\n",
       "      <td>123-19-1176</td>\n",
       "      <td>A</td>\n",
       "      <td>Yangon</td>\n",
       "      <td>Member</td>\n",
       "      <td>Male</td>\n",
       "      <td>Health and beauty</td>\n",
       "      <td>58.22</td>\n",
       "      <td>8</td>\n",
       "      <td>23.2880</td>\n",
       "      <td>489.0480</td>\n",
       "      <td>2019-01-27</td>\n",
       "      <td>20:33</td>\n",
       "      <td>Ewallet</td>\n",
       "      <td>465.76</td>\n",
       "      <td>4.761905</td>\n",
       "      <td>23.2880</td>\n",
       "      <td>8.4</td>\n",
       "      <td>20</td>\n",
       "      <td>Sunday</td>\n",
       "    </tr>\n",
       "    <tr>\n",
       "      <th>4</th>\n",
       "      <td>373-73-7910</td>\n",
       "      <td>A</td>\n",
       "      <td>Yangon</td>\n",
       "      <td>Normal</td>\n",
       "      <td>Male</td>\n",
       "      <td>Sports and travel</td>\n",
       "      <td>86.31</td>\n",
       "      <td>7</td>\n",
       "      <td>30.2085</td>\n",
       "      <td>634.3785</td>\n",
       "      <td>2019-02-08</td>\n",
       "      <td>10:37</td>\n",
       "      <td>Ewallet</td>\n",
       "      <td>604.17</td>\n",
       "      <td>4.761905</td>\n",
       "      <td>30.2085</td>\n",
       "      <td>5.3</td>\n",
       "      <td>10</td>\n",
       "      <td>Friday</td>\n",
       "    </tr>\n",
       "  </tbody>\n",
       "</table>\n",
       "</div>"
      ],
      "text/plain": [
       "    Invoice ID Branch       City Customer type  Gender  \\\n",
       "0  750-67-8428      A     Yangon        Member  Female   \n",
       "1  226-31-3081      C  Naypyitaw        Normal  Female   \n",
       "2  631-41-3108      A     Yangon        Normal    Male   \n",
       "3  123-19-1176      A     Yangon        Member    Male   \n",
       "4  373-73-7910      A     Yangon        Normal    Male   \n",
       "\n",
       "             Product line  Unit price  Quantity   Tax 5%     Total       Date  \\\n",
       "0       Health and beauty       74.69         7  26.1415  548.9715 2019-01-05   \n",
       "1  Electronic accessories       15.28         5   3.8200   80.2200 2019-03-08   \n",
       "2      Home and lifestyle       46.33         7  16.2155  340.5255 2019-03-03   \n",
       "3       Health and beauty       58.22         8  23.2880  489.0480 2019-01-27   \n",
       "4       Sports and travel       86.31         7  30.2085  634.3785 2019-02-08   \n",
       "\n",
       "    Time      Payment    cogs  gross margin percentage  gross income  Rating  \\\n",
       "0  13:08      Ewallet  522.83                 4.761905       26.1415     9.1   \n",
       "1  10:29         Cash   76.40                 4.761905        3.8200     9.6   \n",
       "2  13:23  Credit card  324.31                 4.761905       16.2155     7.4   \n",
       "3  20:33      Ewallet  465.76                 4.761905       23.2880     8.4   \n",
       "4  10:37      Ewallet  604.17                 4.761905       30.2085     5.3   \n",
       "\n",
       "   Hour Day of Week  \n",
       "0    13    Saturday  \n",
       "1    10      Friday  \n",
       "2    13      Sunday  \n",
       "3    20      Sunday  \n",
       "4    10      Friday  "
      ]
     },
     "execution_count": 134,
     "metadata": {},
     "output_type": "execute_result"
    }
   ],
   "source": [
    "df.head()"
   ]
  },
  {
   "cell_type": "code",
   "execution_count": 135,
   "metadata": {},
   "outputs": [],
   "source": [
    "avg_sales_per_day = df.groupby(\"Day of Week\")[\"Total\"].mean()\n",
    "\n",
    "day_order = [\"Monday\", \"Tuesday\", \"Wednesday\", \"Thursday\", \"Friday\", \"Saturday\", \"Sunday\"]\n",
    "avg_sales_per_day = avg_sales_per_day.reindex(day_order)"
   ]
  },
  {
   "cell_type": "code",
   "execution_count": 136,
   "metadata": {},
   "outputs": [
    {
     "data": {
      "text/plain": [
       "Day of Week\n",
       "Monday       303.192624\n",
       "Tuesday      325.836997\n",
       "Wednesday    305.812133\n",
       "Thursday     328.617739\n",
       "Friday       316.016838\n",
       "Saturday     342.200058\n",
       "Sunday       334.269868\n",
       "Name: Total, dtype: float64"
      ]
     },
     "execution_count": 136,
     "metadata": {},
     "output_type": "execute_result"
    }
   ],
   "source": [
    "avg_sales_per_day"
   ]
  },
  {
   "cell_type": "code",
   "execution_count": 184,
   "metadata": {},
   "outputs": [
    {
     "data": {
      "image/png": "[encoded data removed]",
      "text/plain": [
       "<Figure size 1000x600 with 1 Axes>"
      ]
     },
     "metadata": {},
     "output_type": "display_data"
    }
   ],
   "source": [
    "plt.figure(figsize=(10, 6))\n",
    "plt.bar(avg_sales_per_day.index, avg_sales_per_day.values, edgecolor='black')\n",
    "\n",
    "for i, value in enumerate(avg_sales_per_day.values):\n",
    "    plt.text(i, value + 5, f\"{value:.2f}\", ha='center', fontsize=12, fontweight='bold')\n",
    "\n",
    "plt.xlabel(\"Day of the Week\", fontsize=14, fontweight='bold')\n",
    "plt.ylabel(\"Average Sales (Total)\", fontsize=14, fontweight='bold')\n",
    "plt.title(\"Average Sales per Day of the Week\", fontsize=16, fontweight='bold')\n",
    "\n",
    "plt.grid(axis=\"y\", linestyle=\"--\", alpha=0.6)\n",
    "\n",
    "plt.show()"
   ]
  },
  {
   "cell_type": "markdown",
   "metadata": {},
   "source": [
    "### Let's analyze revenue by product line"
   ]
  },
  {
   "cell_type": "code",
   "execution_count": 152,
   "metadata": {},
   "outputs": [
    {
     "data": {
      "text/plain": [
       "Product line\n",
       "Electronic accessories    54337.5315\n",
       "Fashion accessories       54305.8950\n",
       "Food and beverages        56144.8440\n",
       "Health and beauty         49193.7390\n",
       "Home and lifestyle        53861.9130\n",
       "Sports and travel         55122.8265\n",
       "Name: Total, dtype: float64"
      ]
     },
     "execution_count": 152,
     "metadata": {},
     "output_type": "execute_result"
    }
   ],
   "source": [
    "revenue_by_product = df.groupby('Product line')['Total'].sum()\n",
    "revenue_by_product"
   ]
  },
  {
   "cell_type": "code",
   "execution_count": 183,
   "metadata": {},
   "outputs": [
    {
     "data": {
      "image/png": "[encoded data removed]",
      "text/plain": [
       "<Figure size 1000x600 with 1 Axes>"
      ]
     },
     "metadata": {},
     "output_type": "display_data"
    }
   ],
   "source": [
    "plt.figure(figsize=(10, 6))\n",
    "plt.barh(revenue_by_product.index, revenue_by_product.values, edgecolor='black')\n",
    "\n",
    "for i, value in enumerate(revenue_by_product.values):\n",
    "    plt.text(value, i, f\"{value:.2f}$\", va='center', fontsize=12, fontweight='bold')\n",
    "\n",
    "plt.grid(axis=\"x\", linestyle=\"--\", alpha=0.7)\n",
    "\n",
    "plt.show()"
   ]
  },
  {
   "cell_type": "code",
   "execution_count": null,
   "metadata": {},
   "outputs": [],
   "source": []
  }
 ],
 "metadata": {
  "kernelspec": {
   "display_name": "Python 3",
   "language": "python",
   "name": "python3"
  },
  "language_info": {
   "codemirror_mode": {
    "name": "ipython",
    "version": 3
   },
   "file_extension": ".py",
   "mimetype": "text/x-python",
   "name": "python",
   "nbconvert_exporter": "python",
   "pygments_lexer": "ipython3",
   "version": "3.13.1"
  }
 },
 "nbformat": 4,
 "nbformat_minor": 2
}
